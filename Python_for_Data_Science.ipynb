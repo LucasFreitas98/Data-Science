{
  "nbformat": 4,
  "nbformat_minor": 0,
  "metadata": {
    "colab": {
      "provenance": [],
      "authorship_tag": "ABX9TyMz8/oc2emmMzAcL0D80aO2",
      "include_colab_link": true
    },
    "kernelspec": {
      "name": "python3",
      "display_name": "Python 3"
    },
    "language_info": {
      "name": "python"
    }
  },
  "cells": [
    {
      "cell_type": "markdown",
      "metadata": {
        "id": "view-in-github",
        "colab_type": "text"
      },
      "source": [
        "<a href=\"https://colab.research.google.com/github/LucasFreitas98/Data-Science/blob/main/Python_for_Data_Science.ipynb\" target=\"_parent\"><img src=\"https://colab.research.google.com/assets/colab-badge.svg\" alt=\"Open In Colab\"/></a>"
      ]
    },
    {
      "cell_type": "markdown",
      "source": [
        "\n",
        "\n",
        "#Lógica de Programação\n",
        "**negrito**\n",
        "\n",
        "\n"
      ],
      "metadata": {
        "id": "gwjHSk0_88zI"
      }
    },
    {
      "cell_type": "code",
      "source": [
        "a = 1 + 1"
      ],
      "metadata": {
        "id": "oqLiCSoeAmGw"
      },
      "execution_count": 13,
      "outputs": []
    },
    {
      "cell_type": "code",
      "source": [
        "a"
      ],
      "metadata": {
        "colab": {
          "base_uri": "https://localhost:8080/"
        },
        "id": "olY1E17oAr06",
        "outputId": "3163ec59-4cec-4577-ac64-8093e3ac69a3"
      },
      "execution_count": 14,
      "outputs": [
        {
          "output_type": "execute_result",
          "data": {
            "text/plain": [
              "2"
            ]
          },
          "metadata": {},
          "execution_count": 14
        }
      ]
    },
    {
      "cell_type": "code",
      "source": [
        "nome = 'Lucas Freitas'"
      ],
      "metadata": {
        "id": "pd6sYmRn_-r6"
      },
      "execution_count": 5,
      "outputs": []
    },
    {
      "cell_type": "code",
      "source": [
        "idade = 24"
      ],
      "metadata": {
        "id": "sc_0XWnD_7Ts"
      },
      "execution_count": 10,
      "outputs": []
    },
    {
      "cell_type": "code",
      "execution_count": 11,
      "metadata": {
        "id": "hrNrfXcQq4Br",
        "colab": {
          "base_uri": "https://localhost:8080/"
        },
        "outputId": "d11e5304-3231-4f8f-f346-96313831d296"
      },
      "outputs": [
        {
          "output_type": "stream",
          "name": "stdout",
          "text": [
            "O nome é Lucas Freitas e sua idade é 24 anos\n"
          ]
        }
      ],
      "source": [
        "print(f'O nome é {nome} e sua idade é {idade} anos')"
      ]
    },
    {
      "cell_type": "markdown",
      "source": [
        "\n",
        "\n",
        "#Criando minha Primeira Função\n",
        "\n"
      ],
      "metadata": {
        "id": "mrLlz5YjAb78"
      }
    },
    {
      "cell_type": "code",
      "source": [
        "def saudacao():\n",
        "  nome = input('Qual o seu nome? ')\n",
        "  print(f'Olá {nome}')"
      ],
      "metadata": {
        "id": "7MAJWskoAhWG"
      },
      "execution_count": 18,
      "outputs": []
    },
    {
      "cell_type": "code",
      "source": [
        "saudacao()"
      ],
      "metadata": {
        "colab": {
          "base_uri": "https://localhost:8080/"
        },
        "id": "uE985WD3BADO",
        "outputId": "bef9890f-025a-4aba-d9b0-74c14fc85224"
      },
      "execution_count": 19,
      "outputs": [
        {
          "output_type": "stream",
          "name": "stdout",
          "text": [
            "Qual o seu nome? Freitas\n",
            "Olá Freitas\n"
          ]
        }
      ]
    },
    {
      "cell_type": "code",
      "source": [
        "#No Python existem funções embutidas chamadas de funções built-in, como por exemplo, a função print() que usamos.\n",
        "\n",
        "#Além disso, é possível criar funções para realizar uma determinada tarefa, como ilustra o código abaixo:\n",
        "\n",
        "def nome_completo():\n",
        " primeiro_nome = input('Qual seu primeiro nome? ')\n",
        " sobrenome = input('Qual seu sobrenome? ')\n",
        " nome_inteiro = primeiro_nome + ' ' + sobrenome\n",
        " print(nome_inteiro)\n",
        "\n",
        "nome_completo()"
      ],
      "metadata": {
        "colab": {
          "base_uri": "https://localhost:8080/"
        },
        "id": "YYUTA_9OCGJW",
        "outputId": "60f5fc9c-ff0c-4a3c-a9e4-fa9b0fe6186d"
      },
      "execution_count": 20,
      "outputs": [
        {
          "output_type": "stream",
          "name": "stdout",
          "text": [
            "Qual seu primeiro nome? Lucas\n",
            "Qual seu sobrenome? Freitas\n",
            "Lucas Freitas\n"
          ]
        }
      ]
    },
    {
      "cell_type": "markdown",
      "source": [
        "##**Parâmetros** "
      ],
      "metadata": {
        "id": "9M6LMEz0JIh3"
      }
    },
    {
      "cell_type": "code",
      "source": [
        "nome = 'Luna'"
      ],
      "metadata": {
        "id": "86W0g2zDCG0B"
      },
      "execution_count": 22,
      "outputs": []
    },
    {
      "cell_type": "code",
      "source": [
        "def saudacao_com_parametros(nome_da_pessoa):\n",
        "    print(f'Olá {nome_da_pessoa}')"
      ],
      "metadata": {
        "id": "UZByDihFIRby"
      },
      "execution_count": 27,
      "outputs": []
    },
    {
      "cell_type": "code",
      "source": [
        "saudacao_com_parametros(nome)"
      ],
      "metadata": {
        "colab": {
          "base_uri": "https://localhost:8080/"
        },
        "id": "vwIOuZf4IlhC",
        "outputId": "2775281c-26a7-4a7b-c1b8-7baec36d364c"
      },
      "execution_count": 28,
      "outputs": [
        {
          "output_type": "stream",
          "name": "stdout",
          "text": [
            "Olá Luna\n"
          ]
        }
      ]
    },
    {
      "cell_type": "markdown",
      "source": [
        "##**Condicional**"
      ],
      "metadata": {
        "id": "S0ZSwHF2JWN7"
      }
    },
    {
      "cell_type": "code",
      "source": [
        "idade = 10\n",
        "\n",
        "def verifica_se_pode_dirigir(idade):\n",
        "  if idade >= 18:\n",
        "    print('Tem permissão para dirigir')\n",
        "  else:\n",
        "    print('Não tem permissão para dirigir')\n",
        "\n",
        "verifica_se_pode_dirigir(idade)"
      ],
      "metadata": {
        "colab": {
          "base_uri": "https://localhost:8080/"
        },
        "id": "1k8dw3lLJb25",
        "outputId": "81565c9c-1d85-4ea4-bd37-3368de7da6c5"
      },
      "execution_count": 32,
      "outputs": [
        {
          "output_type": "stream",
          "name": "stdout",
          "text": [
            "Não tem permissão para dirigir\n"
          ]
        }
      ]
    },
    {
      "cell_type": "code",
      "source": [
        "def verifica_se_pode_dirigir_sem_parametros():\n",
        "  idade = input('Qual a sua idade? ')\n",
        "  idade = int(idade)\n",
        "  if idade >= 18:\n",
        "    print('Tem permissão para dirigir')\n",
        "  else:\n",
        "    print('Não tem permissão para dirigir')\n",
        "\n",
        "verifica_se_pode_dirigir_sem_parametros()"
      ],
      "metadata": {
        "colab": {
          "base_uri": "https://localhost:8080/"
        },
        "id": "tlHNI0jfKqVJ",
        "outputId": "fa813588-8a32-4023-e369-f083c075ab07"
      },
      "execution_count": 37,
      "outputs": [
        {
          "output_type": "stream",
          "name": "stdout",
          "text": [
            "Qual a sua idade? 2\n",
            "Não tem permissão para dirigir\n"
          ]
        }
      ]
    }
  ]
}