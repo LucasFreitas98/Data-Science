{
  "nbformat": 4,
  "nbformat_minor": 0,
  "metadata": {
    "colab": {
      "provenance": [],
      "authorship_tag": "ABX9TyOBHvLoSHnDYkIfG9XqAtZW",
      "include_colab_link": true
    },
    "kernelspec": {
      "name": "python3",
      "display_name": "Python 3"
    },
    "language_info": {
      "name": "python"
    }
  },
  "cells": [
    {
      "cell_type": "markdown",
      "metadata": {
        "id": "view-in-github",
        "colab_type": "text"
      },
      "source": [
        "<a href=\"https://colab.research.google.com/github/LucasFreitas98/Data-Science/blob/main/analise_de_sentimento.ipynb\" target=\"_parent\"><img src=\"https://colab.research.google.com/assets/colab-badge.svg\" alt=\"Open In Colab\"/></a>"
      ]
    },
    {
      "cell_type": "code",
      "execution_count": 1,
      "metadata": {
        "id": "Ocy0HwCB-fbC"
      },
      "outputs": [],
      "source": [
        "# Importe a classe TextBlob do pacote textblob\n",
        "from textblob import TextBlob"
      ]
    },
    {
      "cell_type": "code",
      "source": [
        "# Frase original\n",
        "frase = \"Python is very good for machine learning\"\n",
        "\n",
        "# Crie uma instância de TextBlob com a frase\n",
        "tb = TextBlob(frase)"
      ],
      "metadata": {
        "id": "V2Aqjlxr-2kJ"
      },
      "execution_count": 19,
      "outputs": []
    },
    {
      "cell_type": "markdown",
      "source": [
        "Quanto mais próximo do 1, mais positiva é a frase"
      ],
      "metadata": {
        "id": "t6ZuWOE4BdRI"
      }
    },
    {
      "cell_type": "code",
      "source": [
        "tb.sentiment.polarity"
      ],
      "metadata": {
        "colab": {
          "base_uri": "https://localhost:8080/"
        },
        "id": "ka4xn0p7_Mof",
        "outputId": "e860cd18-8f65-4dba-c575-50fcc5112a1a"
      },
      "execution_count": 20,
      "outputs": [
        {
          "output_type": "execute_result",
          "data": {
            "text/plain": [
              "0.9099999999999999"
            ]
          },
          "metadata": {},
          "execution_count": 20
        }
      ]
    },
    {
      "cell_type": "code",
      "source": [],
      "metadata": {
        "id": "vdLdti5k_hg9"
      },
      "execution_count": null,
      "outputs": []
    }
  ]
}