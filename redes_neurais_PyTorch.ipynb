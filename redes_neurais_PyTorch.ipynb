{
  "nbformat": 4,
  "nbformat_minor": 0,
  "metadata": {
    "colab": {
      "provenance": [],
      "authorship_tag": "ABX9TyPQ2CA/a5DWlgitLwlUjymE",
      "include_colab_link": true
    },
    "kernelspec": {
      "name": "python3",
      "display_name": "Python 3"
    },
    "language_info": {
      "name": "python"
    },
    "accelerator": "GPU",
    "gpuClass": "standard"
  },
  "cells": [
    {
      "cell_type": "markdown",
      "metadata": {
        "id": "view-in-github",
        "colab_type": "text"
      },
      "source": [
        "<a href=\"https://colab.research.google.com/github/LucasFreitas98/Data-Science/blob/main/redes_neurais_PyTorch.ipynb\" target=\"_parent\"><img src=\"https://colab.research.google.com/assets/colab-badge.svg\" alt=\"Open In Colab\"/></a>"
      ]
    },
    {
      "cell_type": "markdown",
      "source": [
        "# **Redes Neurais: Deep Learning com PyTorch**"
      ],
      "metadata": {
        "id": "cz3Eg9uaWkop"
      }
    },
    {
      "cell_type": "code",
      "execution_count": null,
      "metadata": {
        "id": "fe-03NY3Tokx"
      },
      "outputs": [],
      "source": [
        "Problema de XOR"
      ]
    },
    {
      "cell_type": "code",
      "source": [
        "Teorema da Aproximação Universal"
      ],
      "metadata": {
        "id": "36b7KqSrW23s"
      },
      "execution_count": null,
      "outputs": []
    },
    {
      "cell_type": "code",
      "source": [
        "import torch"
      ],
      "metadata": {
        "id": "n0S-VuUcspuz"
      },
      "execution_count": null,
      "outputs": []
    },
    {
      "cell_type": "code",
      "source": [
        "lista = [[1,2,3],\n",
        "         [4,5,6]]\n",
        "\n",
        "tns = torch.Tensor(lista)\n",
        "print(tns.dtype)\n",
        "print(tns)\n",
        "\n",
        "tns = torch.FloatTensor(lista)\n",
        "print(tns.dtype)\n",
        "print(tns)\n",
        "\n",
        "tns = torch.DoubleTensor(lista)\n",
        "print(tns.dtype)\n",
        "print(tns)\n",
        "\n",
        "tns = torch.LongTensor(lista)\n",
        "print(tns.dtype)\n",
        "print(tns)"
      ],
      "metadata": {
        "colab": {
          "base_uri": "https://localhost:8080/"
        },
        "id": "34X0UnUrW6IH",
        "outputId": "ccce1a59-80b5-47a1-d7de-14521d3594d8"
      },
      "execution_count": null,
      "outputs": [
        {
          "output_type": "stream",
          "name": "stdout",
          "text": [
            "torch.float32\n",
            "tensor([[1., 2., 3.],\n",
            "        [4., 5., 6.]])\n",
            "torch.float32\n",
            "tensor([[1., 2., 3.],\n",
            "        [4., 5., 6.]])\n",
            "torch.float64\n",
            "tensor([[1., 2., 3.],\n",
            "        [4., 5., 6.]], dtype=torch.float64)\n",
            "torch.int64\n",
            "tensor([[1, 2, 3],\n",
            "        [4, 5, 6]])\n"
          ]
        }
      ]
    },
    {
      "cell_type": "markdown",
      "source": [
        "# **Outras formas de instanciar tensores** \n",
        "\n",
        "A partir de arrays Numpy\n",
        "torch.from_numpy()"
      ],
      "metadata": {
        "id": "Nc3RY7shy_I9"
      }
    },
    {
      "cell_type": "code",
      "source": [
        "import numpy as np"
      ],
      "metadata": {
        "id": "gHxT_yO7z5Gg"
      },
      "execution_count": null,
      "outputs": []
    },
    {
      "cell_type": "markdown",
      "source": [],
      "metadata": {
        "id": "hKmbtLq31ZlB"
      }
    },
    {
      "cell_type": "code",
      "source": [
        "arr = np.random.rand(3,4)\n",
        "arr = arr.astype(int)\n",
        "tns = torch.from_numpy(arr)\n",
        "\n",
        "print(arr)\n",
        "print(arr.dtype)\n",
        "\n",
        "print(tns)\n",
        "print(tns.dtype)"
      ],
      "metadata": {
        "colab": {
          "base_uri": "https://localhost:8080/"
        },
        "id": "YvULf1_5zMok",
        "outputId": "08036d63-2ea3-4877-8b1a-7c514f14312e"
      },
      "execution_count": null,
      "outputs": [
        {
          "output_type": "stream",
          "name": "stdout",
          "text": [
            "[[0 0 0 0]\n",
            " [0 0 0 0]\n",
            " [0 0 0 0]]\n",
            "int64\n",
            "tensor([[0, 0, 0, 0],\n",
            "        [0, 0, 0, 0],\n",
            "        [0, 0, 0, 0]])\n",
            "torch.int64\n"
          ]
        }
      ]
    },
    {
      "cell_type": "markdown",
      "source": [
        "# Tensores inicializados \n",
        "\n",
        "Essas funções recebem como parâmetro o tamanho de cada dimensão do tensor. Aqui vamos conhecer as seguintes funções:\n",
        "\n",
        "* torch.ones()  -> Cria um tensor preenchido com zeros\n",
        "* torch.zeros() -> Cria um tensor preenchido com uns.\n",
        "* torch.randn() -> Cria um tensor preenchido com números aleatórios a partir de uma distribuição normal."
      ],
      "metadata": {
        "id": "taC5ow2m1ehE"
      }
    },
    {
      "cell_type": "code",
      "source": [
        "tns1 = torch.ones(2,3)\n",
        "tns0 = torch.zeros(4,5)\n",
        "tnsr = torch.randn(3,3)\n",
        "\n",
        "print(tns1)\n",
        "print(tns0)\n",
        "print(tnsr)"
      ],
      "metadata": {
        "colab": {
          "base_uri": "https://localhost:8080/"
        },
        "id": "r4s5T4z62G5o",
        "outputId": "96ed5667-22af-49ec-f448-a1aebfb61282"
      },
      "execution_count": null,
      "outputs": [
        {
          "output_type": "stream",
          "name": "stdout",
          "text": [
            "tensor([[1., 1., 1.],\n",
            "        [1., 1., 1.]])\n",
            "tensor([[0., 0., 0., 0., 0.],\n",
            "        [0., 0., 0., 0., 0.],\n",
            "        [0., 0., 0., 0., 0.],\n",
            "        [0., 0., 0., 0., 0.]])\n",
            "tensor([[ 2.2487,  0.2549,  0.4276],\n",
            "        [ 0.8700,  1.1518, -0.3327],\n",
            "        [-0.8946, -0.0183, -0.9592]])\n"
          ]
        }
      ]
    },
    {
      "cell_type": "markdown",
      "source": [
        "# **Tensor para array numpy**"
      ],
      "metadata": {
        "id": "diYdnq0a2zV0"
      }
    },
    {
      "cell_type": "code",
      "source": [
        "print(type(tnsr))\n",
        "arr = tnsr.data.numpy()\n",
        "print(arr)\n",
        "print(type(arr))"
      ],
      "metadata": {
        "colab": {
          "base_uri": "https://localhost:8080/"
        },
        "id": "gQZhhkeu24af",
        "outputId": "88e7ee2b-bce9-4fce-d29f-0f9b8e630f4a"
      },
      "execution_count": null,
      "outputs": [
        {
          "output_type": "stream",
          "name": "stdout",
          "text": [
            "<class 'torch.Tensor'>\n",
            "[[ 2.248722    0.2549236   0.42763343]\n",
            " [ 0.86995506  1.1518354  -0.33271855]\n",
            " [-0.89463603 -0.01834082 -0.95919   ]]\n",
            "<class 'numpy.ndarray'>\n"
          ]
        }
      ]
    },
    {
      "cell_type": "markdown",
      "source": [
        "# **Indexação**\n",
        "\n",
        "De posse dessa informação, a indexação é feita de forma similar a arrays Numpy, através da sintaxe de colchetes []."
      ],
      "metadata": {
        "id": "hUr_6een3nnK"
      }
    },
    {
      "cell_type": "code",
      "source": [
        "print(tnsr)\n",
        "tnsr [0,2] = -10\n",
        "\n",
        "print('')\n",
        "print(tnsr)\n",
        "\n",
        "\n",
        "print(tnsr[:, 2])\n",
        "\n",
        "print(tnsr[0,2])"
      ],
      "metadata": {
        "colab": {
          "base_uri": "https://localhost:8080/"
        },
        "id": "m4Q9yY0u33YH",
        "outputId": "24cc2722-9eaa-488e-896b-afa42095fa4b"
      },
      "execution_count": null,
      "outputs": [
        {
          "output_type": "stream",
          "name": "stdout",
          "text": [
            "tensor([[  2.2487,   0.2549, -10.0000],\n",
            "        [  0.8700,   1.1518,  -0.3327],\n",
            "        [ -0.8946,  -0.0183,  -0.9592]])\n",
            "\n",
            "tensor([[  2.2487,   0.2549, -10.0000],\n",
            "        [  0.8700,   1.1518,  -0.3327],\n",
            "        [ -0.8946,  -0.0183,  -0.9592]])\n",
            "tensor([-10.0000,  -0.3327,  -0.9592])\n",
            "tensor(-10.)\n"
          ]
        }
      ]
    },
    {
      "cell_type": "markdown",
      "source": [
        "# **Operações com tensores**\n",
        "\n",
        "A função .item() utilizada anteriormente extrai o número de um tensor que possui um único valor, permitido realizar as operações numéricas do Python. Caso o item não seja extraído, operações que envolvam tensores vão retornar novos tensores.\n",
        "\n",
        "Vale ressaltar também que operações entre tensores são realizadas **ponto a ponto,** operando cada elemento (i, j) do tensor t1, com o elemento (i,j) do tensor t2."
      ],
      "metadata": {
        "id": "JccZatwB5YPP"
      }
    },
    {
      "cell_type": "code",
      "source": [
        "\n",
        "tns = tnsr[0:2, :]\n",
        "print(tns)\n",
        "print(tns1)\n",
        "\n",
        "\n",
        "#Para consulta o tamanho do tensor\n",
        "print(tns.shape)\n",
        "print(tns1.shape)\n",
        "\n",
        "print(tns+tns1)\n",
        "print(tns*tns1)\n",
        "print(tns/tns1)\n",
        "\n",
        "\n",
        "print(torch.mm(tns1,tns.T))"
      ],
      "metadata": {
        "colab": {
          "base_uri": "https://localhost:8080/"
        },
        "id": "PpV61-lm6gsw",
        "outputId": "fbdcfea2-40ec-477d-c27e-8728b64ad796"
      },
      "execution_count": null,
      "outputs": [
        {
          "output_type": "stream",
          "name": "stdout",
          "text": [
            "tensor([[  2.2487,   0.2549, -10.0000],\n",
            "        [  0.8700,   1.1518,  -0.3327]])\n",
            "tensor([[1., 1., 1.],\n",
            "        [1., 1., 1.]])\n",
            "torch.Size([2, 3])\n",
            "torch.Size([2, 3])\n",
            "tensor([[ 3.2487,  1.2549, -9.0000],\n",
            "        [ 1.8700,  2.1518,  0.6673]])\n",
            "tensor([[  2.2487,   0.2549, -10.0000],\n",
            "        [  0.8700,   1.1518,  -0.3327]])\n",
            "tensor([[  2.2487,   0.2549, -10.0000],\n",
            "        [  0.8700,   1.1518,  -0.3327]])\n",
            "tensor([[-7.4964,  1.6891],\n",
            "        [-7.4964,  1.6891]])\n"
          ]
        }
      ]
    },
    {
      "cell_type": "markdown",
      "source": [
        "# **Função .size e .view()**\n",
        "\n",
        "Uma operação **importantíssima** na manipulação de tensores para Deep Learning é a reorganização das suas dimensões. Dessa forma podemos, por exemplo, **linearizar um tensor n-dimensional.**"
      ],
      "metadata": {
        "id": "1Ezkkcw_7PHb"
      }
    },
    {
      "cell_type": "code",
      "source": [
        "print(tns1.size())\n",
        "print(tnsr.size())\n",
        "\n",
        "\n",
        "tns = torch.randn(2,2,3)\n",
        "print(tns)\n",
        "\n",
        "print(tns.size())"
      ],
      "metadata": {
        "colab": {
          "base_uri": "https://localhost:8080/"
        },
        "id": "O0uwLwaC77TJ",
        "outputId": "e049d510-04ff-4bea-afac-a2e2b18b56a7"
      },
      "execution_count": null,
      "outputs": [
        {
          "output_type": "stream",
          "name": "stdout",
          "text": [
            "torch.Size([2, 3])\n",
            "torch.Size([3, 3])\n",
            "tensor([[[ 0.4245,  0.1275, -0.1782],\n",
            "         [ 0.3703,  0.1171,  0.6336]],\n",
            "\n",
            "        [[-0.1074,  0.2096, -0.0808],\n",
            "         [-1.8093,  0.0508, -1.1407]]])\n",
            "torch.Size([2, 2, 3])\n"
          ]
        }
      ]
    },
    {
      "cell_type": "code",
      "source": [
        "tns = tns.view(12)\n",
        "\n",
        "tns = tns.view(tns.size(0), -1)\n",
        "print(tns)"
      ],
      "metadata": {
        "colab": {
          "base_uri": "https://localhost:8080/"
        },
        "id": "6BgEXcwV9Rf9",
        "outputId": "6a124672-b134-4940-9246-d322bda8b3b4"
      },
      "execution_count": null,
      "outputs": [
        {
          "output_type": "stream",
          "name": "stdout",
          "text": [
            "tensor([[ 0.4245],\n",
            "        [ 0.1275],\n",
            "        [-0.1782],\n",
            "        [ 0.3703],\n",
            "        [ 0.1171],\n",
            "        [ 0.6336],\n",
            "        [-0.1074],\n",
            "        [ 0.2096],\n",
            "        [-0.0808],\n",
            "        [-1.8093],\n",
            "        [ 0.0508],\n",
            "        [-1.1407]])\n"
          ]
        }
      ]
    },
    {
      "cell_type": "markdown",
      "source": [
        "# **GPU Cast**\n",
        "\n",
        "Para que o seu script dê suporte a infraestrutura com e sem GPU, é importante definir o dispositivo no início do seu código de acordo com a verificação apresentada a seguir. Essa definição de dispositivo será utilizada toda vez que precisamos subir valores na GPU, como os pesos da rede, os gradientes"
      ],
      "metadata": {
        "id": "QWaKIZjD-l91"
      }
    },
    {
      "cell_type": "code",
      "source": [
        "import torch\n",
        "\n",
        "#Acessando a GPU para ajudar no processamento dos dados\n",
        "tns = torch.randn(10)\n",
        "if torch.cuda.is_available():\n",
        "  device = torch.device('cuda')\n",
        "else:\n",
        "    device = torch.device('cpu')\n",
        "print(device)\n",
        "\n",
        "tns = tns.to(device)\n",
        "print(tns)"
      ],
      "metadata": {
        "colab": {
          "base_uri": "https://localhost:8080/"
        },
        "id": "v90GNFym9ol0",
        "outputId": "4fe883ec-23f7-4b2e-b611-df9b546174ba"
      },
      "execution_count": null,
      "outputs": [
        {
          "output_type": "stream",
          "name": "stdout",
          "text": [
            "cuda\n",
            "tensor([-1.6438e+00, -1.1402e+00, -3.5159e-01, -1.3434e+00, -4.0681e-01,\n",
            "        -1.4199e+00,  2.6056e+00,  1.9535e-03,  5.3683e-01, -7.6962e-02],\n",
            "       device='cuda:0')\n"
          ]
        }
      ]
    },
    {
      "cell_type": "markdown",
      "source": [
        "# **Documentação do PyTorch**\n",
        "\n",
        "Link: https://pytorch.org/docs/stable/tensors.html\n",
        "\n",
        "torch.squeeze() e torch.unsqueeze() que, respectivamente, removem e adicionam dimensões de tamanho 1"
      ],
      "metadata": {
        "id": "W6fCrTedDRaN"
      }
    },
    {
      "cell_type": "markdown",
      "source": [
        "# Classficação Linear"
      ],
      "metadata": {
        "id": "qPahJcnp_y9H"
      }
    },
    {
      "cell_type": "code",
      "source": [
        "#Equação da reta \n",
        "\n",
        "#ax + bx + c\n",
        "#y = (-a*x -c)/b\n",
        "\n",
        "import numpy as np\n",
        "import matplotlib.pyplot as plt\n",
        "\n",
        "a = -1 \n",
        "b = 4\n",
        "c = 0.4\n",
        "\n",
        "def plotline(a, b, c):\n",
        "  x = np.linspace(-2, 4, 50)\n",
        "  y = (-a*x -c)/b\n",
        "\n",
        "  plt.axvline(0, -1, 1, color='k', linewidth=1)\n",
        "  plt.axhline(0, -2, 4, color='k', linewidth=1)\n",
        "  plt.plot(x, y)\n",
        "  plt.grid(True)\n",
        "\n",
        "plotline(a, b, c)"
      ],
      "metadata": {
        "id": "ZdW4nHAP9otP",
        "colab": {
          "base_uri": "https://localhost:8080/",
          "height": 430
        },
        "outputId": "a8b0d22b-21fc-4f43-a629-8fba72bbbd78"
      },
      "execution_count": 12,
      "outputs": [
        {
          "output_type": "display_data",
          "data": {
            "text/plain": [
              "<Figure size 640x480 with 1 Axes>"
            ],
            "image/png": "[encoded data removed]"
          },
          "metadata": {}
        }
      ]
    },
    {
      "cell_type": "code",
      "source": [
        "p1 = (2, 0.4)\n",
        "p2 = (1, 0.6)\n",
        "p3 = (3, -0.4)\n",
        "# ax + by + c\n",
        "\n",
        "ret1 = a*p1[0] + b*p1[1] + c\n",
        "\n",
        "plotline(a, b, c)\n",
        "plt.plot(p1[0], p1[1], color='b', marker='o')\n",
        "plt.plot(p2[0], p2[1], color='r', marker='o')\n",
        "plt.plot(p3[0], p3[1], color='g', marker='o')"
      ],
      "metadata": {
        "colab": {
          "base_uri": "https://localhost:8080/",
          "height": 448
        },
        "id": "x_VWUmIpDAeW",
        "outputId": "c575c48d-9722-4380-e359-de3007b569aa"
      },
      "execution_count": 23,
      "outputs": [
        {
          "output_type": "execute_result",
          "data": {
            "text/plain": [
              "[<matplotlib.lines.Line2D at 0x7fc18d1ef700>]"
            ]
          },
          "metadata": {},
          "execution_count": 23
        },
        {
          "output_type": "display_data",
          "data": {
            "text/plain": [
              "<Figure size 640x480 with 1 Axes>"
            ],
            "image/png": "[encoded data removed]"
          },
          "metadata": {}
        }
      ]
    },
    {
      "cell_type": "code",
      "source": [
        "ret1 = a*p1[0] + b*p1[1] + c\n",
        "print(\"%.2f\" % ret1)\n",
        "\n",
        "ret2 = a*p2[0] + b*p2[1] + c\n",
        "print(\"%.2f\" % ret2)\n",
        "\n",
        "ret3 = a*p3[0] + b*p3[1] + c\n",
        "print(\"%.2f\" % ret3)"
      ],
      "metadata": {
        "colab": {
          "base_uri": "https://localhost:8080/"
        },
        "id": "7dipGiTeFVGb",
        "outputId": "dffd2dcb-b126-4415-f464-44252f2fc6e9"
      },
      "execution_count": 24,
      "outputs": [
        {
          "output_type": "stream",
          "name": "stdout",
          "text": [
            "0.00\n",
            "1.80\n",
            "-4.20\n"
          ]
        }
      ]
    },
    {
      "cell_type": "markdown",
      "source": [
        "f(x) = 0 define pontos na reta\n",
        "\n",
        "f(x) >0 define pontos acima da reta\n",
        "\n",
        "f(x) <0 define pontos abaixo da reta"
      ],
      "metadata": {
        "id": "MIOh3ZKAOCyI"
      }
    },
    {
      "cell_type": "code",
      "source": [],
      "metadata": {
        "id": "SDjVTewAOQ2W"
      },
      "execution_count": null,
      "outputs": []
    }
  ]
}