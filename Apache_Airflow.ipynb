{
  "nbformat": 4,
  "nbformat_minor": 0,
  "metadata": {
    "colab": {
      "provenance": [],
      "authorship_tag": "ABX9TyPeS7eDTwcsyXnt81HV4GTN",
      "include_colab_link": true
    },
    "kernelspec": {
      "name": "python3",
      "display_name": "Python 3"
    },
    "language_info": {
      "name": "python"
    }
  },
  "cells": [
    {
      "cell_type": "markdown",
      "metadata": {
        "id": "view-in-github",
        "colab_type": "text"
      },
      "source": [
        "<a href=\"https://colab.research.google.com/github/LucasFreitas98/Data-Science/blob/main/Apache_Airflow.ipynb\" target=\"_parent\"><img src=\"https://colab.research.google.com/assets/colab-badge.svg\" alt=\"Open In Colab\"/></a>"
      ]
    },
    {
      "cell_type": "code",
      "execution_count": null,
      "metadata": {
        "id": "7xcID4n0o4Le"
      },
      "outputs": [],
      "source": [
        "pip install pandas"
      ]
    },
    {
      "cell_type": "code",
      "source": [
        "#Importar as bibliotecas\n",
        "\n",
        "import os\n",
        "import pandas as pd\n",
        "from os.path import join\n",
        "from datetime import datetime, timedelta"
      ],
      "metadata": {
        "id": "Hs_6ST-So-0N"
      },
      "execution_count": null,
      "outputs": []
    },
    {
      "cell_type": "code",
      "source": [
        "#Definir o intervalo de tempo, cidade e a chave\n",
        "\n",
        "data_inicio = datetime.today().strftime('%Y-%m-%d')\n",
        "data_fim = (datetime.today() + timedelta(days=7)).strftime('%Y-%m-%d')\n",
        "city = 'Boston'\n",
        "key = 'SUA_CHAVE'"
      ],
      "metadata": {
        "id": "nHCsheYqo_RD"
      },
      "execution_count": null,
      "outputs": []
    },
    {
      "cell_type": "code",
      "source": [
        "#Passar as informações para a URL\n",
        "\n",
        "URL = join(\"https://weather.visualcrossing.com/VisualCrossingWebServices/rest/services/timeline/\",\n",
        "          f\"{city}/{data_inicio}/{data_fim}?unitGroup=metric&include=days&key={key}&contentType=csv\")"
      ],
      "metadata": {
        "id": "h4ZdYD8hpV72"
      },
      "execution_count": null,
      "outputs": []
    },
    {
      "cell_type": "code",
      "source": [
        "#Extrair os dados em csv e printar as primeiras linhas no terminal\n",
        "\n",
        "dados = pd.read_csv(URL)\n",
        "print(dados.head())"
      ],
      "metadata": {
        "id": "9gJ0o9CTpcdj"
      },
      "execution_count": null,
      "outputs": []
    },
    {
      "cell_type": "code",
      "source": [
        "#Definir o diretório para salvar os arquivos e criar uma pasta\n",
        "\n",
        "file_path = f'/home/millenagena/Documents/datapipeline/semana={data_inicio}/'\n",
        "os.mkdir(file_path)"
      ],
      "metadata": {
        "id": "IsZ8623ypvTO"
      },
      "execution_count": null,
      "outputs": []
    },
    {
      "cell_type": "code",
      "source": [
        "#Salvar os arquivos em csv\n",
        "\n",
        "dados.to_csv(file_path + 'dados_brutos.csv')\n",
        "dados[['datetime','tempmin', 'temp', 'tempmax']].to_csv(file_path + 'temperaturas.csv')\n",
        "dados[['datetime', 'description', 'icon']].to_csv(file_path + 'condicoes.csv')"
      ],
      "metadata": {
        "id": "eeqpEy9hp49F"
      },
      "execution_count": null,
      "outputs": []
    }
  ]
}